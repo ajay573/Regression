{
  "nbformat": 4,
  "nbformat_minor": 0,
  "metadata": {
    "anaconda-cloud": {},
    "kernelspec": {
      "display_name": "ml1-arm64",
      "language": "python",
      "name": "ml1-arm64"
    },
    "language_info": {
      "codemirror_mode": {
        "name": "ipython",
        "version": 3
      },
      "file_extension": ".py",
      "mimetype": "text/x-python",
      "name": "python",
      "nbconvert_exporter": "python",
      "pygments_lexer": "ipython3",
      "version": "3.9.1"
    },
    "nteract": {
      "version": "0.7.1"
    },
    "colab": {
      "name": "linreg.ipynb",
      "provenance": []
    }
  },
  "cells": [
    {
      "cell_type": "markdown",
      "metadata": {
        "id": "F-qjsO3-CyTH"
      },
      "source": [
        "# Linear Regression Multiple Ways"
      ]
    },
    {
      "cell_type": "markdown",
      "metadata": {
        "id": "vhI2fAh1C360"
      },
      "source": [
        "!git init; git pull https://github.com/ajay573/Regression.git"
      ]
    },
    {
      "cell_type": "markdown",
      "metadata": {
        "id": "RBBWZsb3CyTO"
      },
      "source": [
        "## Making the data\n",
        "\n",
        "Making my copy.\n",
        "We'll first construct a synthetic data set..using a function from the `scikit-learn` library. Synthetic data is nice in the sense that we can constrain how the noise behaves, and thus isolate effects."
      ]
    },
    {
      "cell_type": "code",
      "metadata": {
        "id": "nWlllRnJtX_f",
        "outputId": "e08c3393-b75d-4076-ea6e-90fc658b2a15",
        "colab": {
          "base_uri": "https://localhost:8080/"
        }
      },
      "source": [
        "!git init; git pull https://github.com/ajay573/Regression.git"
      ],
      "execution_count": 3,
      "outputs": [
        {
          "output_type": "stream",
          "text": [
            "Initialized empty Git repository in /content/.git/\n",
            "remote: Enumerating objects: 160, done.\u001b[K\n",
            "remote: Counting objects: 100% (160/160), done.\u001b[K\n",
            "remote: Compressing objects: 100% (159/159), done.\u001b[K\n",
            "remote: Total 160 (delta 2), reused 156 (delta 0), pack-reused 0\u001b[K\n",
            "Receiving objects: 100% (160/160), 19.11 MiB | 8.57 MiB/s, done.\n",
            "Resolving deltas: 100% (2/2), done.\n",
            "From https://github.com/ajay573/Regression\n",
            " * branch            HEAD       -> FETCH_HEAD\n"
          ],
          "name": "stdout"
        }
      ]
    },
    {
      "cell_type": "code",
      "metadata": {
        "id": "5KkUzem9uoyM",
        "outputId": "2f567b98-0ab6-430e-9bb2-4d0801589330",
        "colab": {
          "base_uri": "https://localhost:8080/"
        }
      },
      "source": [
        "!ls"
      ],
      "execution_count": 4,
      "outputs": [
        {
          "output_type": "stream",
          "text": [
            "distribute_linreg.ipynb  lecture.pdf   README.md\n",
            "images\t\t\t linreg.ipynb  sample_data\n"
          ],
          "name": "stdout"
        }
      ]
    },
    {
      "cell_type": "code",
      "metadata": {
        "id": "yDBQLvGDCyTP"
      },
      "source": [
        "%matplotlib inline\n",
        "from sklearn.datasets import make_regression\n",
        "import numpy as np\n",
        "import matplotlib.pyplot as plt"
      ],
      "execution_count": 6,
      "outputs": []
    },
    {
      "cell_type": "markdown",
      "metadata": {
        "id": "SoCW2nSyCyTR"
      },
      "source": [
        "This data is generated from the canonical generating process assumed for linear regression: a gaussian distribution centered at the regression line on the y axis."
      ]
    },
    {
      "cell_type": "code",
      "metadata": {
        "id": "MQ4g4sN9CyTR"
      },
      "source": [
        "#code adapted from http://tillbergmann.com/blog/python-gradient-descent.html\n",
        "X, y, coef = make_regression(n_samples = 100, \n",
        "                       n_features=1, \n",
        "                       noise=20,\n",
        "                       random_state=2017,\n",
        "                       bias=0.0,\n",
        "                       coef=True)"
      ],
      "execution_count": 8,
      "outputs": []
    },
    {
      "cell_type": "markdown",
      "metadata": {
        "id": "Q98EPmtRCyTS"
      },
      "source": [
        "Notice that the X is in the canonical array-of-arrays format.\n",
        "**Try and print its shape**"
      ]
    },
    {
      "cell_type": "code",
      "metadata": {
        "colab": {
          "base_uri": "https://localhost:8080/"
        },
        "id": "iNpyFGTeCyTS",
        "outputId": "c775236e-3753-4bc4-cd9c-45aca4874e13"
      },
      "source": [
        "# your code here\n",
        "X.shape, y.shape"
      ],
      "execution_count": 10,
      "outputs": [
        {
          "output_type": "execute_result",
          "data": {
            "text/plain": [
              "((100, 1), (100,))"
            ]
          },
          "metadata": {
            "tags": []
          },
          "execution_count": 10
        }
      ]
    },
    {
      "cell_type": "markdown",
      "metadata": {
        "id": "ij_miKEiCyTU"
      },
      "source": [
        "We are fitting a model with an intercept. Lets see what it is."
      ]
    },
    {
      "cell_type": "code",
      "metadata": {
        "colab": {
          "base_uri": "https://localhost:8080/"
        },
        "id": "5STse-DGCyTU",
        "outputId": "e0b1ba55-179a-4baa-fbf5-8ffb445b8958"
      },
      "source": [
        "coef"
      ],
      "execution_count": 11,
      "outputs": [
        {
          "output_type": "execute_result",
          "data": {
            "text/plain": [
              "array(80.88336208)"
            ]
          },
          "metadata": {
            "tags": []
          },
          "execution_count": 11
        }
      ]
    },
    {
      "cell_type": "markdown",
      "metadata": {
        "id": "nRSyktEDCyTV"
      },
      "source": [
        "We can plot the data."
      ]
    },
    {
      "cell_type": "code",
      "metadata": {
        "colab": {
          "base_uri": "https://localhost:8080/",
          "height": 265
        },
        "id": "f34COrzrCyTV",
        "outputId": "9537e915-8b50-410c-a414-d75b9b221b71"
      },
      "source": [
        "plt.plot(X,y, 'o');"
      ],
      "execution_count": 12,
      "outputs": [
        {
          "output_type": "display_data",
          "data": {
            "image/png": "[encoded data removed]",
            "text/plain": [
              "<Figure size 432x288 with 1 Axes>"
            ]
          },
          "metadata": {
            "tags": [],
            "needs_background": "light"
          }
        }
      ]
    },
    {
      "cell_type": "markdown",
      "metadata": {
        "id": "BBwzhUNYCyTW"
      },
      "source": [
        "For the purposes of drawing the regression line, lets create a uniform grid of points, and then reshape it into the canonical format"
      ]
    },
    {
      "cell_type": "code",
      "metadata": {
        "id": "jmedjoqJCyTX"
      },
      "source": [
        "xgrid = np.linspace(-2.5,2.5,1000)\n",
        "Xgrid = xgrid.reshape(-1,1)"
      ],
      "execution_count": 13,
      "outputs": []
    },
    {
      "cell_type": "markdown",
      "metadata": {
        "id": "-Qx4TklhCyTY"
      },
      "source": [
        "## Fit using sklearn"
      ]
    },
    {
      "cell_type": "code",
      "metadata": {
        "id": "ecdZyQdpCyTY"
      },
      "source": [
        "from sklearn.linear_model import LinearRegression"
      ],
      "execution_count": 14,
      "outputs": []
    },
    {
      "cell_type": "code",
      "metadata": {
        "colab": {
          "base_uri": "https://localhost:8080/"
        },
        "id": "NN8FEHXqCyTY",
        "outputId": "5cdb18e8-8880-49b0-db01-d67c680edfbf"
      },
      "source": [
        "lr = LinearRegression()\n",
        "lr.fit(X,y) # fit the model with the existing data\n",
        "ypgrid = lr.predict(Xgrid) # now predict it on the grid\n",
        "lr.coef_, lr.intercept_ # get the slope and the intercept"
      ],
      "execution_count": 15,
      "outputs": [
        {
          "output_type": "execute_result",
          "data": {
            "text/plain": [
              "(array([82.90456142]), -3.709228868670302)"
            ]
          },
          "metadata": {
            "tags": []
          },
          "execution_count": 15
        }
      ]
    },
    {
      "cell_type": "markdown",
      "metadata": {
        "id": "ihlAru1ACyTY"
      },
      "source": [
        "Notice that the slope and the intercept are not what we fed into the model, but close. This is because the model fitted depends on the exact way points were generated.."
      ]
    },
    {
      "cell_type": "code",
      "metadata": {
        "colab": {
          "base_uri": "https://localhost:8080/",
          "height": 282
        },
        "id": "xThEkz-FCyTZ",
        "outputId": "d6d41009-cc86-4db6-9885-a117f6b1e038"
      },
      "source": [
        "plt.plot(Xgrid, ypgrid)\n",
        "plt.plot(X, y, '.')"
      ],
      "execution_count": 16,
      "outputs": [
        {
          "output_type": "execute_result",
          "data": {
            "text/plain": [
              "[<matplotlib.lines.Line2D at 0x7efe73e3d470>]"
            ]
          },
          "metadata": {
            "tags": []
          },
          "execution_count": 16
        },
        {
          "output_type": "display_data",
          "data": {
            "image/png": "[encoded data removed]",
            "text/plain": [
              "<Figure size 432x288 with 1 Axes>"
            ]
          },
          "metadata": {
            "tags": [],
            "needs_background": "light"
          }
        }
      ]
    },
    {
      "cell_type": "code",
      "metadata": {
        "id": "4vs9Qhf2CyTa"
      },
      "source": [
        "from sklearn.metrics import r2_score"
      ],
      "execution_count": 17,
      "outputs": []
    },
    {
      "cell_type": "code",
      "metadata": {
        "id": "HGmhfmAjCyTa"
      },
      "source": [
        "r2_score(y, lr.predict(X))"
      ],
      "execution_count": null,
      "outputs": []
    },
    {
      "cell_type": "markdown",
      "metadata": {
        "id": "I7g78BarCyTb"
      },
      "source": [
        "## The impact of samples\n",
        "\n",
        "We'll sample 20 points from the data set. We do this by sampling 20 indices, index into X and y, and then fit on the sample"
      ]
    },
    {
      "cell_type": "code",
      "metadata": {
        "id": "1ajLCrOWCyTb"
      },
      "source": [
        "sample_indices = np.random.choice(range(100), size=20, replace=False)\n",
        "sample_indices"
      ],
      "execution_count": null,
      "outputs": []
    },
    {
      "cell_type": "markdown",
      "metadata": {
        "id": "4qjIde5_CyTb"
      },
      "source": [
        "We create a sample by using the sample indices:"
      ]
    },
    {
      "cell_type": "code",
      "metadata": {
        "id": "A3fp5XwTCyTc"
      },
      "source": [
        "Xsample = X[sample_indices]\n",
        "ysample = y[sample_indices]"
      ],
      "execution_count": null,
      "outputs": []
    },
    {
      "cell_type": "markdown",
      "metadata": {
        "id": "lE3G5P4iCyTc"
      },
      "source": [
        "**Find the $R^2$ score of a fit to this sample, on this sample**"
      ]
    },
    {
      "cell_type": "code",
      "metadata": {
        "id": "BJ8M1Da1CyTc"
      },
      "source": [
        "# your code here\n"
      ],
      "execution_count": null,
      "outputs": []
    },
    {
      "cell_type": "markdown",
      "metadata": {
        "id": "JKo99KksCyTd"
      },
      "source": [
        "Lets check the sensitivity of our prediction to our sample. We'll do this 1000 times..that is we'll sample a new set of 20 points, "
      ]
    },
    {
      "cell_type": "code",
      "metadata": {
        "id": "SyD960zACyTe"
      },
      "source": [
        "scores = []\n",
        "models=[]\n",
        "for i in range(1000):\n",
        "    sample_indices = np.random.choice(range(100), size=20, replace=False)\n",
        "    Xsample = X[sample_indices]\n",
        "    ysample = y[sample_indices]\n",
        "    m = LinearRegression().fit(Xsample, ysample)\n",
        "    models.append(m)\n",
        "    scores.append(m.score(Xsample, ysample))\n",
        "plt.hist(scores,  bins=np.linspace(0.7, 1, 30))\n",
        "plt.xlim(0.7,1)"
      ],
      "execution_count": null,
      "outputs": []
    },
    {
      "cell_type": "markdown",
      "metadata": {
        "id": "vAqEUbtvCyTe"
      },
      "source": [
        "Let us check the slope and intercepts fitted on the different samples"
      ]
    },
    {
      "cell_type": "code",
      "metadata": {
        "id": "xMn-JQLkCyTe"
      },
      "source": [
        "plt.hist([models[i].coef_[0] for i in range(1000)], bins=10);\n",
        "plt.xlim([60, 100])"
      ],
      "execution_count": null,
      "outputs": []
    },
    {
      "cell_type": "code",
      "metadata": {
        "id": "teZnVAyICyTf"
      },
      "source": [
        "plt.hist([models[i].intercept_ for i in range(100)], bins=10);\n",
        "plt.xlim([-15, 10])"
      ],
      "execution_count": null,
      "outputs": []
    },
    {
      "cell_type": "markdown",
      "metadata": {
        "id": "8D5cIb07CyTf"
      },
      "source": [
        "## The impact of noise\n",
        "\n",
        "**Redo this with a higher amount of noise (about 400)**. For this you will need to create a new dataset. Plot the data. Plot the histogram of the R^2 as well as that of the coefficients."
      ]
    },
    {
      "cell_type": "code",
      "metadata": {
        "id": "YrW_wcIkCyTf"
      },
      "source": [
        "# your code here\n"
      ],
      "execution_count": null,
      "outputs": []
    },
    {
      "cell_type": "code",
      "metadata": {
        "id": "rq-nZKfDCyTg"
      },
      "source": [
        "# your code here\n"
      ],
      "execution_count": null,
      "outputs": []
    },
    {
      "cell_type": "code",
      "metadata": {
        "id": "UNcQhOJnCyTg"
      },
      "source": [
        "# your code here\n"
      ],
      "execution_count": null,
      "outputs": []
    },
    {
      "cell_type": "code",
      "metadata": {
        "id": "3fr4EJraCyTg"
      },
      "source": [
        "# your code here\n"
      ],
      "execution_count": null,
      "outputs": []
    },
    {
      "cell_type": "markdown",
      "metadata": {
        "id": "0IkDhVVnCyTg"
      },
      "source": [
        "## Impact of sample size\n",
        "\n",
        "Going back to the original dataset with less noise, now fetch smaller size samples  (10 data points each) and repeat"
      ]
    },
    {
      "cell_type": "code",
      "metadata": {
        "id": "vSHJRIJkCyTh"
      },
      "source": [
        "# your code here\n"
      ],
      "execution_count": null,
      "outputs": []
    },
    {
      "cell_type": "code",
      "metadata": {
        "id": "kO7MH8z3CyTh"
      },
      "source": [
        "# your code here\n"
      ],
      "execution_count": null,
      "outputs": []
    },
    {
      "cell_type": "code",
      "metadata": {
        "id": "Sn0zwqBuCyTh"
      },
      "source": [
        "plt.hist([models[i].intercept_ for i in range(100)], bins=10);\n",
        "plt.xlim([-15, 10])"
      ],
      "execution_count": null,
      "outputs": []
    },
    {
      "cell_type": "markdown",
      "metadata": {
        "id": "BeErYPb9CyTi"
      },
      "source": [
        "## Testing and training\n",
        "\n",
        "A grid like the one we created might contain some of the points we fit this model on. This is called **Data Contamination** and is a big no-no. If we want an independent estimate of the error, we should hold out some points in a test set. Then we want to guarantee that there is no overlap between the initial sample, or **training set**, and the test set."
      ]
    },
    {
      "cell_type": "code",
      "metadata": {
        "id": "vxJH20BmCyTi"
      },
      "source": [
        "from sklearn.model_selection import train_test_split"
      ],
      "execution_count": 23,
      "outputs": []
    },
    {
      "cell_type": "code",
      "metadata": {
        "id": "ZBRKTAcGCyTi"
      },
      "source": [
        "Xtrain, Xtest, ytrain, ytest = train_test_split(X, y, test_size=0.2, random_state=2017)"
      ],
      "execution_count": 24,
      "outputs": []
    },
    {
      "cell_type": "markdown",
      "metadata": {
        "id": "ASm-rgK_CyTi"
      },
      "source": [
        "Now lets fit the model on the training set and evaluate it both on the training set and the test set. We print the R^2"
      ]
    },
    {
      "cell_type": "code",
      "metadata": {
        "id": "1IqnGc1iCyTi"
      },
      "source": [
        "lr2 = LinearRegression().fit(Xtrain, ytrain)\n",
        "r2_test = r2_score(ytest, lr.predict(Xtest))\n",
        "r2_train = r2_score(ytrain, lr.predict(Xtrain))"
      ],
      "execution_count": 25,
      "outputs": []
    },
    {
      "cell_type": "code",
      "metadata": {
        "colab": {
          "base_uri": "https://localhost:8080/",
          "height": 35
        },
        "id": "x_tnvbNfCyTj",
        "outputId": "09ab8a18-ef57-4d69-a2d3-a20a363b1273"
      },
      "source": [
        "\"Train R2 is {}, while test R^2 is {}\".format(r2_train, r2_test)"
      ],
      "execution_count": 26,
      "outputs": [
        {
          "output_type": "execute_result",
          "data": {
            "application/vnd.google.colaboratory.intrinsic+json": {
              "type": "string"
            },
            "text/plain": [
              "'Train R2 is 0.9302930567263316, while test R^2 is 0.9446796445954511'"
            ]
          },
          "metadata": {
            "tags": []
          },
          "execution_count": 26
        }
      ]
    },
    {
      "cell_type": "markdown",
      "metadata": {
        "id": "_bRVGa0ACyTj"
      },
      "source": [
        "## Using Keras to fit the model\n",
        "\n",
        "We'll use SGD (we could have used plain and simple gradient descent, why?) and Keras's Sequential API"
      ]
    },
    {
      "cell_type": "code",
      "metadata": {
        "colab": {
          "base_uri": "https://localhost:8080/"
        },
        "id": "CQsuCh9hCyTj",
        "outputId": "09e32cab-5d7f-49b1-ebc0-3c57c8a1fd57"
      },
      "source": [
        "from keras.models import Sequential\n",
        "from keras.layers import Dense\n",
        "lr3 = Sequential()\n",
        "lr3.add(Dense(1, input_shape=(1,)))\n",
        "lr3.compile(optimizer='sgd', loss='mean_squared_error',  metrics=['mse','accuracy'])\n",
        "lr3.summary()"
      ],
      "execution_count": 27,
      "outputs": [
        {
          "output_type": "stream",
          "text": [
            "Model: \"sequential\"\n",
            "_________________________________________________________________\n",
            "Layer (type)                 Output Shape              Param #   \n",
            "=================================================================\n",
            "dense (Dense)                (None, 1)                 2         \n",
            "=================================================================\n",
            "Total params: 2\n",
            "Trainable params: 2\n",
            "Non-trainable params: 0\n",
            "_________________________________________________________________\n"
          ],
          "name": "stdout"
        }
      ]
    },
    {
      "cell_type": "code",
      "metadata": {
        "colab": {
          "base_uri": "https://localhost:8080/"
        },
        "id": "2miJgYFLCyTk",
        "outputId": "d56df2cb-598b-4c20-8da0-9356245669f7"
      },
      "source": [
        "history = lr3.fit(Xtrain, ytrain, epochs=100, batch_size=20)"
      ],
      "execution_count": 28,
      "outputs": [
        {
          "output_type": "stream",
          "text": [
            "Epoch 1/100\n",
            "4/4 [==============================] - 1s 4ms/step - loss: 5903.0037 - mse: 5903.0037 - accuracy: 0.0000e+00\n",
            "Epoch 2/100\n",
            "4/4 [==============================] - 0s 3ms/step - loss: 4155.5651 - mse: 4155.5651 - accuracy: 0.0000e+00\n",
            "Epoch 3/100\n",
            "4/4 [==============================] - 0s 3ms/step - loss: 4194.3666 - mse: 4194.3667 - accuracy: 0.0000e+00\n",
            "Epoch 4/100\n",
            "4/4 [==============================] - 0s 2ms/step - loss: 3903.9162 - mse: 3903.9161 - accuracy: 0.0000e+00\n",
            "Epoch 5/100\n",
            "4/4 [==============================] - 0s 2ms/step - loss: 3839.8231 - mse: 3839.8231 - accuracy: 0.0000e+00\n",
            "Epoch 6/100\n",
            "4/4 [==============================] - 0s 3ms/step - loss: 2828.7032 - mse: 2828.7032 - accuracy: 0.0000e+00\n",
            "Epoch 7/100\n",
            "4/4 [==============================] - 0s 3ms/step - loss: 2903.4527 - mse: 2903.4527 - accuracy: 0.0000e+00\n",
            "Epoch 8/100\n",
            "4/4 [==============================] - 0s 2ms/step - loss: 2727.3982 - mse: 2727.3982 - accuracy: 0.0000e+00\n",
            "Epoch 9/100\n",
            "4/4 [==============================] - 0s 3ms/step - loss: 2362.2902 - mse: 2362.2901 - accuracy: 0.0000e+00\n",
            "Epoch 10/100\n",
            "4/4 [==============================] - 0s 3ms/step - loss: 2182.5489 - mse: 2182.5489 - accuracy: 0.0000e+00\n",
            "Epoch 11/100\n",
            "4/4 [==============================] - 0s 2ms/step - loss: 1674.3315 - mse: 1674.3315 - accuracy: 0.0000e+00\n",
            "Epoch 12/100\n",
            "4/4 [==============================] - 0s 3ms/step - loss: 1688.3024 - mse: 1688.3024 - accuracy: 0.0000e+00\n",
            "Epoch 13/100\n",
            "4/4 [==============================] - 0s 3ms/step - loss: 1687.5128 - mse: 1687.5128 - accuracy: 0.0000e+00\n",
            "Epoch 14/100\n",
            "4/4 [==============================] - 0s 2ms/step - loss: 1415.7779 - mse: 1415.7779 - accuracy: 0.0000e+00\n",
            "Epoch 15/100\n",
            "4/4 [==============================] - 0s 3ms/step - loss: 1240.0158 - mse: 1240.0158 - accuracy: 0.0000e+00\n",
            "Epoch 16/100\n",
            "4/4 [==============================] - 0s 2ms/step - loss: 1223.7322 - mse: 1223.7322 - accuracy: 0.0000e+00\n",
            "Epoch 17/100\n",
            "4/4 [==============================] - 0s 3ms/step - loss: 1102.8918 - mse: 1102.8918 - accuracy: 0.0000e+00\n",
            "Epoch 18/100\n",
            "4/4 [==============================] - 0s 3ms/step - loss: 879.3626 - mse: 879.3626 - accuracy: 0.0000e+00\n",
            "Epoch 19/100\n",
            "4/4 [==============================] - 0s 2ms/step - loss: 991.5564 - mse: 991.5564 - accuracy: 0.0000e+00\n",
            "Epoch 20/100\n",
            "4/4 [==============================] - 0s 2ms/step - loss: 788.6227 - mse: 788.6227 - accuracy: 0.0000e+00\n",
            "Epoch 21/100\n",
            "4/4 [==============================] - 0s 2ms/step - loss: 860.9117 - mse: 860.9117 - accuracy: 0.0000e+00\n",
            "Epoch 22/100\n",
            "4/4 [==============================] - 0s 2ms/step - loss: 661.4143 - mse: 661.4143 - accuracy: 0.0000e+00\n",
            "Epoch 23/100\n",
            "4/4 [==============================] - 0s 2ms/step - loss: 780.6541 - mse: 780.6541 - accuracy: 0.0000e+00\n",
            "Epoch 24/100\n",
            "4/4 [==============================] - 0s 3ms/step - loss: 709.3587 - mse: 709.3587 - accuracy: 0.0000e+00\n",
            "Epoch 25/100\n",
            "4/4 [==============================] - 0s 2ms/step - loss: 665.8395 - mse: 665.8395 - accuracy: 0.0000e+00\n",
            "Epoch 26/100\n",
            "4/4 [==============================] - 0s 5ms/step - loss: 664.7506 - mse: 664.7506 - accuracy: 0.0000e+00\n",
            "Epoch 27/100\n",
            "4/4 [==============================] - 0s 6ms/step - loss: 711.5805 - mse: 711.5805 - accuracy: 0.0000e+00\n",
            "Epoch 28/100\n",
            "4/4 [==============================] - 0s 3ms/step - loss: 635.4397 - mse: 635.4397 - accuracy: 0.0000e+00\n",
            "Epoch 29/100\n",
            "4/4 [==============================] - 0s 2ms/step - loss: 481.6720 - mse: 481.6720 - accuracy: 0.0000e+00\n",
            "Epoch 30/100\n",
            "4/4 [==============================] - 0s 2ms/step - loss: 495.2734 - mse: 495.2734 - accuracy: 0.0000e+00\n",
            "Epoch 31/100\n",
            "4/4 [==============================] - 0s 4ms/step - loss: 508.9200 - mse: 508.9200 - accuracy: 0.0000e+00\n",
            "Epoch 32/100\n",
            "4/4 [==============================] - 0s 2ms/step - loss: 486.5702 - mse: 486.5702 - accuracy: 0.0000e+00\n",
            "Epoch 33/100\n",
            "4/4 [==============================] - 0s 2ms/step - loss: 475.1823 - mse: 475.1823 - accuracy: 0.0000e+00\n",
            "Epoch 34/100\n",
            "4/4 [==============================] - 0s 2ms/step - loss: 427.6927 - mse: 427.6927 - accuracy: 0.0000e+00\n",
            "Epoch 35/100\n",
            "4/4 [==============================] - 0s 3ms/step - loss: 481.9446 - mse: 481.9446 - accuracy: 0.0000e+00\n",
            "Epoch 36/100\n",
            "4/4 [==============================] - 0s 3ms/step - loss: 501.8147 - mse: 501.8147 - accuracy: 0.0000e+00\n",
            "Epoch 37/100\n",
            "4/4 [==============================] - 0s 3ms/step - loss: 370.0118 - mse: 370.0118 - accuracy: 0.0000e+00\n",
            "Epoch 38/100\n",
            "4/4 [==============================] - 0s 2ms/step - loss: 435.5400 - mse: 435.5400 - accuracy: 0.0000e+00\n",
            "Epoch 39/100\n",
            "4/4 [==============================] - 0s 2ms/step - loss: 426.6124 - mse: 426.6124 - accuracy: 0.0000e+00\n",
            "Epoch 40/100\n",
            "4/4 [==============================] - 0s 2ms/step - loss: 456.0071 - mse: 456.0071 - accuracy: 0.0000e+00\n",
            "Epoch 41/100\n",
            "4/4 [==============================] - 0s 3ms/step - loss: 465.3946 - mse: 465.3946 - accuracy: 0.0000e+00\n",
            "Epoch 42/100\n",
            "4/4 [==============================] - 0s 2ms/step - loss: 360.3635 - mse: 360.3635 - accuracy: 0.0000e+00\n",
            "Epoch 43/100\n",
            "4/4 [==============================] - 0s 2ms/step - loss: 376.2811 - mse: 376.2811 - accuracy: 0.0000e+00\n",
            "Epoch 44/100\n",
            "4/4 [==============================] - 0s 2ms/step - loss: 448.1906 - mse: 448.1906 - accuracy: 0.0000e+00\n",
            "Epoch 45/100\n",
            "4/4 [==============================] - 0s 2ms/step - loss: 431.6935 - mse: 431.6935 - accuracy: 0.0000e+00\n",
            "Epoch 46/100\n",
            "4/4 [==============================] - 0s 2ms/step - loss: 411.6430 - mse: 411.6431 - accuracy: 0.0000e+00\n",
            "Epoch 47/100\n",
            "4/4 [==============================] - 0s 3ms/step - loss: 358.6817 - mse: 358.6817 - accuracy: 0.0000e+00\n",
            "Epoch 48/100\n",
            "4/4 [==============================] - 0s 3ms/step - loss: 356.1642 - mse: 356.1642 - accuracy: 0.0000e+00\n",
            "Epoch 49/100\n",
            "4/4 [==============================] - 0s 5ms/step - loss: 412.9182 - mse: 412.9182 - accuracy: 0.0000e+00\n",
            "Epoch 50/100\n",
            "4/4 [==============================] - 0s 3ms/step - loss: 409.8605 - mse: 409.8605 - accuracy: 0.0000e+00\n",
            "Epoch 51/100\n",
            "4/4 [==============================] - 0s 2ms/step - loss: 333.2031 - mse: 333.2031 - accuracy: 0.0000e+00\n",
            "Epoch 52/100\n",
            "4/4 [==============================] - 0s 3ms/step - loss: 400.7886 - mse: 400.7886 - accuracy: 0.0000e+00\n",
            "Epoch 53/100\n",
            "4/4 [==============================] - 0s 3ms/step - loss: 434.3788 - mse: 434.3788 - accuracy: 0.0000e+00\n",
            "Epoch 54/100\n",
            "4/4 [==============================] - 0s 3ms/step - loss: 394.4510 - mse: 394.4510 - accuracy: 0.0000e+00\n",
            "Epoch 55/100\n",
            "4/4 [==============================] - 0s 4ms/step - loss: 392.8519 - mse: 392.8519 - accuracy: 0.0000e+00\n",
            "Epoch 56/100\n",
            "4/4 [==============================] - 0s 3ms/step - loss: 371.3439 - mse: 371.3439 - accuracy: 0.0000e+00\n",
            "Epoch 57/100\n",
            "4/4 [==============================] - 0s 2ms/step - loss: 333.4985 - mse: 333.4985 - accuracy: 0.0000e+00\n",
            "Epoch 58/100\n",
            "4/4 [==============================] - 0s 3ms/step - loss: 420.7807 - mse: 420.7807 - accuracy: 0.0000e+00\n",
            "Epoch 59/100\n",
            "4/4 [==============================] - 0s 3ms/step - loss: 360.6921 - mse: 360.6921 - accuracy: 0.0000e+00\n",
            "Epoch 60/100\n",
            "4/4 [==============================] - 0s 2ms/step - loss: 395.3321 - mse: 395.3321 - accuracy: 0.0000e+00\n",
            "Epoch 61/100\n",
            "4/4 [==============================] - 0s 3ms/step - loss: 310.6083 - mse: 310.6083 - accuracy: 0.0000e+00\n",
            "Epoch 62/100\n",
            "4/4 [==============================] - 0s 2ms/step - loss: 352.6828 - mse: 352.6828 - accuracy: 0.0000e+00\n",
            "Epoch 63/100\n",
            "4/4 [==============================] - 0s 3ms/step - loss: 383.2257 - mse: 383.2257 - accuracy: 0.0000e+00\n",
            "Epoch 64/100\n",
            "4/4 [==============================] - 0s 2ms/step - loss: 403.4963 - mse: 403.4963 - accuracy: 0.0000e+00\n",
            "Epoch 65/100\n",
            "4/4 [==============================] - 0s 2ms/step - loss: 342.7692 - mse: 342.7691 - accuracy: 0.0000e+00\n",
            "Epoch 66/100\n",
            "4/4 [==============================] - 0s 2ms/step - loss: 367.8319 - mse: 367.8319 - accuracy: 0.0000e+00\n",
            "Epoch 67/100\n",
            "4/4 [==============================] - 0s 2ms/step - loss: 398.5261 - mse: 398.5261 - accuracy: 0.0000e+00\n",
            "Epoch 68/100\n",
            "4/4 [==============================] - 0s 3ms/step - loss: 378.8264 - mse: 378.8264 - accuracy: 0.0000e+00\n",
            "Epoch 69/100\n",
            "4/4 [==============================] - 0s 3ms/step - loss: 344.0059 - mse: 344.0060 - accuracy: 0.0000e+00\n",
            "Epoch 70/100\n",
            "4/4 [==============================] - 0s 2ms/step - loss: 340.4140 - mse: 340.4140 - accuracy: 0.0000e+00\n",
            "Epoch 71/100\n",
            "4/4 [==============================] - 0s 3ms/step - loss: 373.6508 - mse: 373.6508 - accuracy: 0.0000e+00\n",
            "Epoch 72/100\n",
            "4/4 [==============================] - 0s 3ms/step - loss: 406.1290 - mse: 406.1290 - accuracy: 0.0000e+00\n",
            "Epoch 73/100\n",
            "4/4 [==============================] - 0s 3ms/step - loss: 363.6522 - mse: 363.6522 - accuracy: 0.0000e+00\n",
            "Epoch 74/100\n",
            "4/4 [==============================] - 0s 3ms/step - loss: 302.3733 - mse: 302.3733 - accuracy: 0.0000e+00\n",
            "Epoch 75/100\n",
            "4/4 [==============================] - 0s 2ms/step - loss: 384.6918 - mse: 384.6918 - accuracy: 0.0000e+00\n",
            "Epoch 76/100\n",
            "4/4 [==============================] - 0s 3ms/step - loss: 368.9673 - mse: 368.9673 - accuracy: 0.0000e+00\n",
            "Epoch 77/100\n",
            "4/4 [==============================] - 0s 2ms/step - loss: 368.4541 - mse: 368.4541 - accuracy: 0.0000e+00\n",
            "Epoch 78/100\n",
            "4/4 [==============================] - 0s 2ms/step - loss: 380.1114 - mse: 380.1114 - accuracy: 0.0000e+00\n",
            "Epoch 79/100\n",
            "4/4 [==============================] - 0s 2ms/step - loss: 397.6480 - mse: 397.6480 - accuracy: 0.0000e+00\n",
            "Epoch 80/100\n",
            "4/4 [==============================] - 0s 3ms/step - loss: 320.5756 - mse: 320.5756 - accuracy: 0.0000e+00\n",
            "Epoch 81/100\n",
            "4/4 [==============================] - 0s 2ms/step - loss: 351.8121 - mse: 351.8121 - accuracy: 0.0000e+00\n",
            "Epoch 82/100\n",
            "4/4 [==============================] - 0s 3ms/step - loss: 380.8555 - mse: 380.8555 - accuracy: 0.0000e+00\n",
            "Epoch 83/100\n",
            "4/4 [==============================] - 0s 2ms/step - loss: 335.0351 - mse: 335.0351 - accuracy: 0.0000e+00\n",
            "Epoch 84/100\n",
            "4/4 [==============================] - 0s 2ms/step - loss: 383.8633 - mse: 383.8633 - accuracy: 0.0000e+00\n",
            "Epoch 85/100\n",
            "4/4 [==============================] - 0s 3ms/step - loss: 343.7549 - mse: 343.7548 - accuracy: 0.0000e+00\n",
            "Epoch 86/100\n",
            "4/4 [==============================] - 0s 3ms/step - loss: 387.4351 - mse: 387.4351 - accuracy: 0.0000e+00\n",
            "Epoch 87/100\n",
            "4/4 [==============================] - 0s 2ms/step - loss: 382.5244 - mse: 382.5244 - accuracy: 0.0000e+00\n",
            "Epoch 88/100\n",
            "4/4 [==============================] - 0s 3ms/step - loss: 345.8746 - mse: 345.8746 - accuracy: 0.0000e+00\n",
            "Epoch 89/100\n",
            "4/4 [==============================] - 0s 4ms/step - loss: 371.0323 - mse: 371.0323 - accuracy: 0.0000e+00\n",
            "Epoch 90/100\n",
            "4/4 [==============================] - 0s 2ms/step - loss: 386.4198 - mse: 386.4198 - accuracy: 0.0000e+00\n",
            "Epoch 91/100\n",
            "4/4 [==============================] - 0s 4ms/step - loss: 410.4514 - mse: 410.4514 - accuracy: 0.0000e+00\n",
            "Epoch 92/100\n",
            "4/4 [==============================] - 0s 5ms/step - loss: 381.2264 - mse: 381.2264 - accuracy: 0.0000e+00\n",
            "Epoch 93/100\n",
            "4/4 [==============================] - 0s 3ms/step - loss: 414.2079 - mse: 414.2079 - accuracy: 0.0000e+00\n",
            "Epoch 94/100\n",
            "4/4 [==============================] - 0s 2ms/step - loss: 355.4210 - mse: 355.4210 - accuracy: 0.0000e+00\n",
            "Epoch 95/100\n",
            "4/4 [==============================] - 0s 2ms/step - loss: 394.8952 - mse: 394.8952 - accuracy: 0.0000e+00\n",
            "Epoch 96/100\n",
            "4/4 [==============================] - 0s 3ms/step - loss: 360.9303 - mse: 360.9303 - accuracy: 0.0000e+00\n",
            "Epoch 97/100\n",
            "4/4 [==============================] - 0s 2ms/step - loss: 421.0259 - mse: 421.0259 - accuracy: 0.0000e+00\n",
            "Epoch 98/100\n",
            "4/4 [==============================] - 0s 3ms/step - loss: 350.9540 - mse: 350.9540 - accuracy: 0.0000e+00\n",
            "Epoch 99/100\n",
            "4/4 [==============================] - 0s 3ms/step - loss: 346.8220 - mse: 346.8220 - accuracy: 0.0000e+00\n",
            "Epoch 100/100\n",
            "4/4 [==============================] - 0s 2ms/step - loss: 406.7609 - mse: 406.7609 - accuracy: 0.0000e+00\n"
          ],
          "name": "stdout"
        }
      ]
    },
    {
      "cell_type": "code",
      "metadata": {
        "colab": {
          "base_uri": "https://localhost:8080/",
          "height": 282
        },
        "id": "tAhz39NZCyTk",
        "outputId": "e06f8c53-bf39-4402-e774-576a332f29e8"
      },
      "source": [
        "plt.plot(history.history['loss'])"
      ],
      "execution_count": 29,
      "outputs": [
        {
          "output_type": "execute_result",
          "data": {
            "text/plain": [
              "[<matplotlib.lines.Line2D at 0x7efe3bd2cb00>]"
            ]
          },
          "metadata": {
            "tags": []
          },
          "execution_count": 29
        },
        {
          "output_type": "display_data",
          "data": {
            "image/png": "[encoded data removed]",
            "text/plain": [
              "<Figure size 432x288 with 1 Axes>"
            ]
          },
          "metadata": {
            "tags": [],
            "needs_background": "light"
          }
        }
      ]
    },
    {
      "cell_type": "code",
      "metadata": {
        "id": "qId7nfpLCyTm"
      },
      "source": [
        "lr3.get_weights()"
      ],
      "execution_count": null,
      "outputs": []
    }
  ]
}